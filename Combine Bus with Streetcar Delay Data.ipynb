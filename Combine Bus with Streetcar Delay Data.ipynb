{
 "cells": [
  {
   "cell_type": "code",
   "execution_count": null,
   "metadata": {},
   "outputs": [],
   "source": [
    "import pandas as pd\n",
    "import glob\n",
    "from datetime import datetime\n",
    "from tqdm import tqdm\n",
    "from geopy.extra.rate_limiter import RateLimiter\n",
    "import time\n",
    "import googlemaps"
   ]
  },
  {
   "cell_type": "markdown",
   "metadata": {},
   "source": [
    "# Import bus data and streetcar data csv files"
   ]
  },
  {
   "cell_type": "code",
   "execution_count": null,
   "metadata": {},
   "outputs": [],
   "source": [
    "# combine excel sheets together\n",
    "\n",
    "df_bus = pd.read_csv('BusDelayData_updated.csv')\n",
    "df_st = pd.read_csv('StreetcarDelayData.csv')"
   ]
  },
  {
   "cell_type": "code",
   "execution_count": null,
   "metadata": {},
   "outputs": [],
   "source": [
    "# shape of the data\n",
    "\n",
    "print(df_bus.shape)\n",
    "print(df_st.shape)"
   ]
  },
  {
   "cell_type": "code",
   "execution_count": null,
   "metadata": {},
   "outputs": [],
   "source": [
    "df_bus.describe()"
   ]
  },
  {
   "cell_type": "markdown",
   "metadata": {},
   "source": [
    "### create column for categorizing bus and streetcar prior to merging datasets"
   ]
  },
  {
   "cell_type": "code",
   "execution_count": null,
   "metadata": {},
   "outputs": [],
   "source": [
    "df_bus['vtype'] = 'bus'\n",
    "df_st['vtype'] = 'streetcar'"
   ]
  },
  {
   "cell_type": "code",
   "execution_count": null,
   "metadata": {},
   "outputs": [],
   "source": [
    "df_st.describe()"
   ]
  },
  {
   "cell_type": "code",
   "execution_count": null,
   "metadata": {},
   "outputs": [],
   "source": [
    "# combine bus and streetcar\n",
    "df_tot = pd.concat([df_bus, df_st])"
   ]
  },
  {
   "cell_type": "code",
   "execution_count": null,
   "metadata": {},
   "outputs": [],
   "source": [
    "df_tot.shape"
   ]
  },
  {
   "cell_type": "code",
   "execution_count": null,
   "metadata": {},
   "outputs": [],
   "source": [
    "df_tot.head(10)"
   ]
  },
  {
   "cell_type": "code",
   "execution_count": null,
   "metadata": {},
   "outputs": [],
   "source": [
    "df_tot[df_tot['vtype'] == 'bus'].count() "
   ]
  },
  {
   "cell_type": "code",
   "execution_count": null,
   "metadata": {},
   "outputs": [],
   "source": [
    "df_tot.tail()"
   ]
  },
  {
   "cell_type": "code",
   "execution_count": null,
   "metadata": {},
   "outputs": [],
   "source": [
    "df_tot = df_tot.drop(columns = 'Unnamed: 0')"
   ]
  },
  {
   "cell_type": "code",
   "execution_count": null,
   "metadata": {},
   "outputs": [],
   "source": [
    "df_tot.info()"
   ]
  },
  {
   "cell_type": "markdown",
   "metadata": {},
   "source": [
    "## convert report date to datetime format and create year, month and day columns\n",
    "## convert time to time format to create hour and minute column"
   ]
  },
  {
   "cell_type": "code",
   "execution_count": null,
   "metadata": {},
   "outputs": [],
   "source": [
    "df_tot['Report Date'] = pd.to_datetime(df_tot['Report Date'])"
   ]
  },
  {
   "cell_type": "code",
   "execution_count": null,
   "metadata": {},
   "outputs": [],
   "source": [
    "df_tot.head(5)"
   ]
  },
  {
   "cell_type": "code",
   "execution_count": null,
   "metadata": {},
   "outputs": [],
   "source": [
    "df_tot = df_tot.reset_index().drop(columns = 'index')"
   ]
  },
  {
   "cell_type": "code",
   "execution_count": null,
   "metadata": {},
   "outputs": [],
   "source": [
    "df_tot.info()"
   ]
  },
  {
   "cell_type": "code",
   "execution_count": null,
   "metadata": {
    "scrolled": true
   },
   "outputs": [],
   "source": [
    "df_tot['year'] = pd.DatetimeIndex(df_tot['Report Date']).year\n",
    "df_tot['month'] = pd.DatetimeIndex(df_tot['Report Date']).month\n",
    "df_tot['day'] = pd.DatetimeIndex(df_tot['Report Date']).day"
   ]
  },
  {
   "cell_type": "code",
   "execution_count": null,
   "metadata": {},
   "outputs": [],
   "source": [
    "import datetime as dt\n",
    "\n",
    "df_tot['hour'] = pd.to_datetime(df_tot['Time']).dt.hour\n",
    "df_tot['minute'] = pd.to_datetime(df_tot['Time']).dt.minute"
   ]
  },
  {
   "cell_type": "code",
   "execution_count": null,
   "metadata": {},
   "outputs": [],
   "source": [
    "df_tot['Location'].str.lower()"
   ]
  },
  {
   "cell_type": "code",
   "execution_count": null,
   "metadata": {
    "scrolled": true
   },
   "outputs": [],
   "source": [
    "df_tot['Location'] = df_tot['Location'].str.lower()\n",
    "df_tot['Incident'] = df_tot['Incident'].str.lower()\n",
    "df_tot['Day'] = df_tot['Day'].str.lower()\n",
    "df_tot['Direction'] = df_tot['Direction'].str.lower()\n",
    "\n",
    "df_tot"
   ]
  },
  {
   "cell_type": "markdown",
   "metadata": {},
   "source": [
    "## Remove null values\n",
    "## remove rows "
   ]
  },
  {
   "cell_type": "code",
   "execution_count": null,
   "metadata": {},
   "outputs": [],
   "source": [
    "df_tot.isnull().sum()"
   ]
  },
  {
   "cell_type": "code",
   "execution_count": null,
   "metadata": {},
   "outputs": [],
   "source": [
    "#df_tot.shape"
   ]
  },
  {
   "cell_type": "code",
   "execution_count": null,
   "metadata": {},
   "outputs": [],
   "source": [
    "df_tot = df_tot.dropna()"
   ]
  },
  {
   "cell_type": "code",
   "execution_count": null,
   "metadata": {},
   "outputs": [],
   "source": [
    "df_tot.isnull().sum()"
   ]
  },
  {
   "cell_type": "code",
   "execution_count": null,
   "metadata": {},
   "outputs": [],
   "source": [
    "df_tot.shape"
   ]
  },
  {
   "cell_type": "markdown",
   "metadata": {},
   "source": [
    "## Clean location data first prior to retreiving lat and long coordinates"
   ]
  },
  {
   "cell_type": "code",
   "execution_count": null,
   "metadata": {},
   "outputs": [],
   "source": [
    "df_tot = df_tot.reset_index()"
   ]
  },
  {
   "cell_type": "code",
   "execution_count": null,
   "metadata": {
    "scrolled": true
   },
   "outputs": [],
   "source": [
    "df_tot['Location'] = df_tot['Location'].str.replace('&', 'and')"
   ]
  },
  {
   "cell_type": "code",
   "execution_count": null,
   "metadata": {},
   "outputs": [],
   "source": [
    "df_tot['Location'] = df_tot['Location'].str.replace('stn', 'station')"
   ]
  },
  {
   "cell_type": "code",
   "execution_count": null,
   "metadata": {},
   "outputs": [],
   "source": [
    "df_tot['Location'] = df_tot['Location'].str.replace('ave', 'avenue')"
   ]
  },
  {
   "cell_type": "code",
   "execution_count": null,
   "metadata": {},
   "outputs": [],
   "source": [
    "df_tot['Location'] = df_tot['Location'].str.replace('str', 'street')"
   ]
  },
  {
   "cell_type": "code",
   "execution_count": null,
   "metadata": {
    "scrolled": true
   },
   "outputs": [],
   "source": [
    "df_tot['Day'] = df_tot['Day'].str.capitalize()"
   ]
  },
  {
   "cell_type": "code",
   "execution_count": null,
   "metadata": {},
   "outputs": [],
   "source": [
    "df_tot['Direction'] = df_tot['Direction'].str.replace('/', '')"
   ]
  },
  {
   "cell_type": "code",
   "execution_count": null,
   "metadata": {},
   "outputs": [],
   "source": [
    "df_tot = df_tot.drop(columns = 'index')"
   ]
  },
  {
   "cell_type": "code",
   "execution_count": null,
   "metadata": {
    "scrolled": true
   },
   "outputs": [],
   "source": [
    "df_tot['Vehicle'] = df_tot['Vehicle'].astype(int)"
   ]
  },
  {
   "cell_type": "code",
   "execution_count": null,
   "metadata": {},
   "outputs": [],
   "source": [
    "df_tot['Location'] = df_tot['Location'].str.replace('/', '')"
   ]
  },
  {
   "cell_type": "code",
   "execution_count": null,
   "metadata": {},
   "outputs": [],
   "source": [
    "df_tot['Location'] = df_tot['Location'].str.replace('#', '')\n",
    "df_tot['Location'] = df_tot['Location'].str.replace('!', '')"
   ]
  },
  {
   "cell_type": "code",
   "execution_count": null,
   "metadata": {},
   "outputs": [],
   "source": [
    "df_tot.head(5)"
   ]
  },
  {
   "cell_type": "code",
   "execution_count": null,
   "metadata": {
    "scrolled": true
   },
   "outputs": [],
   "source": [
    "df_tot['Location'].value_counts()[:20]"
   ]
  },
  {
   "cell_type": "code",
   "execution_count": null,
   "metadata": {},
   "outputs": [],
   "source": [
    "location = df_tot['Location'].unique().tolist()\n",
    "\n",
    "len(location)"
   ]
  },
  {
   "cell_type": "code",
   "execution_count": null,
   "metadata": {},
   "outputs": [],
   "source": [
    "address= 'howardpark and dundas' + ' Toronto'\n",
    "loc = geolocator.geocode(address)\n",
    "if loc != None:\n",
    "    print(loc.latitude, loc.longitude)\n",
    "else:\n",
    "    print(0)"
   ]
  },
  {
   "cell_type": "markdown",
   "metadata": {},
   "source": [
    "## Use geopy first to retrieve lat and long coordinates before using google api since we are limited in the number of coordinates we can retrieve."
   ]
  },
  {
   "cell_type": "code",
   "execution_count": null,
   "metadata": {},
   "outputs": [],
   "source": [
    "geolocator = Nominatim(user_agent=\"my_user_agent\")\n",
    "\n",
    "latlist_total =[]\n",
    "longlist_total =[]\n",
    "\n",
    "\n",
    "for i in tqdm(location):\n",
    "\n",
    "    address= i + ', Toronto,' + ' Canada'\n",
    "#    time.sleep(1)\n",
    "    loc = geolocator.geocode(address)\n",
    "    if loc != None:\n",
    "        latlist_total.append(loc.latitude)\n",
    "        longlist_total.append(loc.longitude)\n",
    "    else:\n",
    "        latlist_total.append(0)\n",
    "        longlist_total.append(0)        "
   ]
  },
  {
   "cell_type": "code",
   "execution_count": null,
   "metadata": {},
   "outputs": [],
   "source": [
    "print(len(latlist_total))\n",
    "print(len(longlist_total))"
   ]
  },
  {
   "cell_type": "code",
   "execution_count": null,
   "metadata": {},
   "outputs": [],
   "source": [
    "d = {'location': location, 'lat': latlist_total, 'long': longlist_total}"
   ]
  },
  {
   "cell_type": "code",
   "execution_count": null,
   "metadata": {},
   "outputs": [],
   "source": [
    "# put lat and long data into a dataframe\n",
    "df_location = pd.DataFrame(data = d)\n",
    "\n",
    "df_location\n",
    "print(len(df_location[df_location['lat'] != 0.000000]))\n",
    "print(len(df_location[df_location['lat'] == 0.000000]))\n",
    "\n",
    "#lat: 42\n",
    "#long: 58"
   ]
  },
  {
   "cell_type": "code",
   "execution_count": null,
   "metadata": {},
   "outputs": [],
   "source": [
    "df_location[:40000][df_location['lat'] == 0.000000]"
   ]
  },
  {
   "cell_type": "code",
   "execution_count": null,
   "metadata": {},
   "outputs": [],
   "source": [
    "df_location.to_csv('location_coor.csv') # save coordinates retrieved using geopy"
   ]
  },
  {
   "cell_type": "code",
   "execution_count": null,
   "metadata": {},
   "outputs": [],
   "source": [
    "latlist_g = df_location['lat'].tolist()\n",
    "longlist_g = df_location['long'].tolist()"
   ]
  },
  {
   "cell_type": "code",
   "execution_count": null,
   "metadata": {
    "scrolled": true
   },
   "outputs": [],
   "source": [
    "len(location)"
   ]
  },
  {
   "cell_type": "code",
   "execution_count": null,
   "metadata": {},
   "outputs": [],
   "source": [
    "len(latlist_g)"
   ]
  },
  {
   "cell_type": "markdown",
   "metadata": {},
   "source": [
    "## Retrieve remaining missing lat and long coordinates using googlemaps API"
   ]
  },
  {
   "cell_type": "code",
   "execution_count": null,
   "metadata": {},
   "outputs": [],
   "source": [
    "latlist_g2 = []\n",
    "longlist_g2 = []\n",
    "location_g2 = []\n",
    "\n",
    "\n",
    "for i,j,k in tqdm(zip(latlist_g, longlist_g, location)):\n",
    "    \n",
    "    try: \n",
    "        if i == 0:\n",
    "            \n",
    "            address_c = k + ', Toronto,' + ' Canada'\n",
    "\n",
    "            gmaps = googlemaps.Client(key='{insert api key here}')\n",
    "\n",
    "            try: \n",
    "                geocode_result = gmaps.geocode(address_c)\n",
    "                if geocode_result != []:\n",
    "                    try:\n",
    "                        lat = geocode_result[0]['geometry']['location']['lat']\n",
    "                        #print(lat)\n",
    "                        long = geocode_result[0]['geometry']['location']['lng']\n",
    "                        #print(long)\n",
    "                        latlist_g2.append(lat)\n",
    "                        longlist_g2.append(long)\n",
    "                        location_g2.append(k)\n",
    "                    \n",
    "                    except:\n",
    "                        latlist_g2.append(i)\n",
    "                        longlist_g2.append(j)\n",
    "                        location_g2.append(k)   \n",
    "\n",
    "                else: \n",
    "                    latlist_g2.append(i)\n",
    "                    longlist_g2.append(j)\n",
    "                    location_g2.append(k)      \n",
    "\n",
    "            except:\n",
    "                latlist_g2.append(i)\n",
    "                longlist_g2.append(j)\n",
    "                location_g2.append(k) \n",
    "\n",
    "        else:\n",
    "            latlist_g2.append(i)\n",
    "            longlist_g2.append(j)\n",
    "            location_g2.append(k)\n",
    "\n",
    "    except:\n",
    "        latlist_g2.append(i)\n",
    "        longlist_g2.append(j)\n",
    "        location_g2.append(k) \n",
    "            \n",
    "            \n",
    "\n",
    "# Look up an address with reverse geocoding\n",
    "#reverse_geocode_result = gmaps.reverse_geocode((40.714224, -73.961452))\n",
    "\n",
    "# Request directions via public transit"
   ]
  },
  {
   "cell_type": "code",
   "execution_count": null,
   "metadata": {},
   "outputs": [],
   "source": [
    "print(len(latlist_g2))\n",
    "print(len(longlist_g2))"
   ]
  },
  {
   "cell_type": "code",
   "execution_count": null,
   "metadata": {
    "scrolled": true
   },
   "outputs": [],
   "source": [
    "len(latlist_g)"
   ]
  },
  {
   "cell_type": "code",
   "execution_count": null,
   "metadata": {},
   "outputs": [],
   "source": [
    "len(longlist_g)"
   ]
  },
  {
   "cell_type": "code",
   "execution_count": null,
   "metadata": {},
   "outputs": [],
   "source": [
    "len(latlist_g2)"
   ]
  },
  {
   "cell_type": "code",
   "execution_count": null,
   "metadata": {},
   "outputs": [],
   "source": [
    "len(longlist_g2)"
   ]
  },
  {
   "cell_type": "code",
   "execution_count": null,
   "metadata": {},
   "outputs": [],
   "source": [
    "len(location)"
   ]
  },
  {
   "cell_type": "code",
   "execution_count": null,
   "metadata": {},
   "outputs": [],
   "source": [
    "d = {'location': location, 'lat': latlist_g2, 'long': longlist_g2}"
   ]
  },
  {
   "cell_type": "code",
   "execution_count": null,
   "metadata": {},
   "outputs": [],
   "source": [
    "df_location = pd.DataFrame(data = d)\n",
    "\n",
    "df_location.set_index('location')\n",
    "\n",
    "df_location = df_location.rename(columns = {'location': 'Location'})\n",
    "df_location.set_index('Location')"
   ]
  },
  {
   "cell_type": "code",
   "execution_count": null,
   "metadata": {},
   "outputs": [],
   "source": [
    "df_location.loc[39999]"
   ]
  },
  {
   "cell_type": "code",
   "execution_count": null,
   "metadata": {},
   "outputs": [],
   "source": [
    "latlist_g2[39999]"
   ]
  },
  {
   "cell_type": "markdown",
   "metadata": {},
   "source": [
    "## random test case for coordinates"
   ]
  },
  {
   "cell_type": "code",
   "execution_count": null,
   "metadata": {},
   "outputs": [],
   "source": [
    "df_location[df_location['Location'] == 'sloane and sweeney']"
   ]
  },
  {
   "cell_type": "code",
   "execution_count": null,
   "metadata": {},
   "outputs": [],
   "source": [
    "df_location[df_location['Location'] == 'exhibition place']"
   ]
  },
  {
   "cell_type": "markdown",
   "metadata": {},
   "source": [
    "## Combine location data to bus and streetcar data using location common column"
   ]
  },
  {
   "cell_type": "code",
   "execution_count": null,
   "metadata": {},
   "outputs": [],
   "source": [
    "df_tot_v1 = pd.merge(df_tot, df_location)"
   ]
  },
  {
   "cell_type": "code",
   "execution_count": null,
   "metadata": {},
   "outputs": [],
   "source": [
    "df_tot_v1"
   ]
  },
  {
   "cell_type": "code",
   "execution_count": null,
   "metadata": {},
   "outputs": [],
   "source": [
    "df_tot_v1.info()"
   ]
  },
  {
   "cell_type": "code",
   "execution_count": null,
   "metadata": {},
   "outputs": [],
   "source": [
    "df_tot_v1.to_csv('BusandStreetcarDelayData_v2.csv')"
   ]
  }
 ],
 "metadata": {
  "kernelspec": {
   "display_name": "Python 3",
   "language": "python",
   "name": "python3"
  },
  "language_info": {
   "codemirror_mode": {
    "name": "ipython",
    "version": 3
   },
   "file_extension": ".py",
   "mimetype": "text/x-python",
   "name": "python",
   "nbconvert_exporter": "python",
   "pygments_lexer": "ipython3",
   "version": "3.8.3"
  }
 },
 "nbformat": 4,
 "nbformat_minor": 4
}
